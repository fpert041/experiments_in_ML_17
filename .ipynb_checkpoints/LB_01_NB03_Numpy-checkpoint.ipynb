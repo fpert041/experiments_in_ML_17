{
 "cells": [
  {
   "cell_type": "markdown",
   "metadata": {},
   "source": [
    "# 3. Introduction to numpy\n",
    "\n",
    "\n",
    "**Instructions:**\n",
    "* go through the notebook and complete the **tasks** .  \n",
    "* Make sure you understand the examples given!\n",
    "* ** Save your notebooks when you are done! **\n",
    "\n",
    "Note that we use the import keyword to import modules and libraries in Python (more <a href=\"https://docs.python.org/3/tutorial/modules.html\">here</a>)\n",
    "\n",
    "See details on documentation / resources here:\n",
    "https://learn.gold.ac.uk/mod/page/view.php?id=487982"
   ]
  },
  {
   "cell_type": "code",
   "execution_count": 1,
   "metadata": {},
   "outputs": [],
   "source": [
    "import numpy as np"
   ]
  },
  {
   "cell_type": "markdown",
   "metadata": {
    "collapsed": true
   },
   "source": [
    "## 3.2 Numpy Arrays\n",
    "Numpy ndarrays are a fundamental structure for ML in python.\n",
    "\n",
    "\n",
    "### 3.2.1 Usage Examples\n",
    "\n",
    "** Create numpy array from list **\n",
    "\n",
    "    data1D = [6, 7, 8]\n",
    "    data1DnD = np.array(data1D)\n",
    "    print(data1D)\n",
    "    print(data1DnD)\n",
    "   \n",
    "\n",
    "** print useful properties of our array **\n",
    "\n",
    "    print(data1DnD.shape)\n",
    "    print(data1DnD.ndim)\n",
    "    print(data1DnD.dtype)\n",
    "    \n",
    "    \n",
    "** change type of elements **\n",
    "\n",
    "    data1DnD_float = data1DnD.astype(np.float)\n",
    "    data1DnD_string = data1DnD.astype(np.string_)\n",
    "   \n",
    "    \n",
    "** array indexing **\n",
    "\n",
    "    print(a[0])   #return the first element of ndarray a\n",
    "    print(a[:])   #return all the elements of ndarray a\n",
    "    print(a[-1])  #return the last element of ndarray a\n",
    "    print(a[:-1]) #return everything up to the last element\n",
    "    print(a[:-2]) #return everything up to the second last element\n",
    "    print(a[-2])  #return the second last element\n",
    "\n",
    "** various ways of creating an ndarray **\n",
    "\n",
    "    a = np.array([1, 2, 3])\n",
    "    b = np.zeros((1,5))              # Create an array of all zeros\n",
    "    c = np.ones((1,5))               # Create an array of all ones\n",
    "    d = np.full((1,5), 7)            # Create an array filled with value 7\n",
    "    e = np.random.random((1,4))      # Create an array filled with random values\n",
    "    f = np.eye(3)                    # Create a 3x3 identity matrix (2D array)\n",
    "    g = np.ones((3,3,3))             # 3-Dimensional array\n",
    "    \n",
    "** generalization to n-dimensional arrays **\n",
    "\n",
    "    A=np.array([ [1,2], [3,4] ])     # Create a 2-D array (Matrix)\n",
    "    print(A[0,1])                    # return the element on first column, second row (0,1)=2\n",
    "                                     # array indexing works as above\n",
    "    \n",
    "\n",
    "** reshaping **\n",
    "\n",
    "    We can reshape a vector (e.g., v=[v1,v2,...vN]) to a matrix of N1, N2 dimensions (where N1xN2 = N)\n",
    "    This is very useful for plotting images.  For 2 dimensions, the related numpy method is np.reshape(ndarray, [dim1, dim2])\n",
    "<hr>"
   ]
  },
  {
   "cell_type": "markdown",
   "metadata": {},
   "source": [
    "<span style=\"color:rgb(170,0,0)\">**Task:**</span>\n",
    "- Go through the examples above, pasting the code given in the empty cell below and verifying the results.  \n",
    "- Make sure you understand what this basic code does (numpy documentation <a href=\"http://docs.scipy.org/doc/numpy/reference/generated/numpy.ndarray.html\">here</a>)"
   ]
  },
  {
   "cell_type": "code",
   "execution_count": 10,
   "metadata": {},
   "outputs": [
    {
     "name": "stdout",
     "output_type": "stream",
     "text": [
      "[6, 7, 8]\n",
      "[6 7 8]\n",
      "---------------\n",
      "(3,)\n",
      "1\n",
      "int64\n",
      "---------------\n",
      "[ 6.  7.  8.]\n",
      "[b'6' b'7' b'8']\n",
      "---------------\n",
      "6\n",
      "[6 7 8]\n",
      "8\n",
      "[6 7]\n",
      "[6]\n",
      "7\n",
      "---------------\n",
      "[1 2 3] [[ 0.  0.  0.  0.  0.]] [[ 1.  1.  1.  1.  1.]] [[7 7 7 7 7]] [[ 0.4678367   0.7169802   0.147179    0.71499601]] [[ 1.  0.  0.]\n",
      " [ 0.  1.  0.]\n",
      " [ 0.  0.  1.]] [[[ 1.  1.  1.]\n",
      "  [ 1.  1.  1.]\n",
      "  [ 1.  1.  1.]]\n",
      "\n",
      " [[ 1.  1.  1.]\n",
      "  [ 1.  1.  1.]\n",
      "  [ 1.  1.  1.]]\n",
      "\n",
      " [[ 1.  1.  1.]\n",
      "  [ 1.  1.  1.]\n",
      "  [ 1.  1.  1.]]]\n",
      "---------------\n",
      "2\n",
      "---------------\n",
      "[ 0.28797266  0.62464361  0.76718415  0.86645944  0.89003341  0.71749639\n",
      "  0.79743375  0.11626203  0.45178951  0.4556574   0.72407729  0.16139165\n",
      "  0.46295611  0.01170855  0.37899714  0.21305345  0.86479215  0.91662401\n",
      "  0.9118719   0.64784037  0.60468367  0.67674512  0.6633462   0.39601113\n",
      "  0.22453908  0.68566172  0.26662366  0.67409559  0.83090925  0.47478183\n",
      "  0.44368899  0.72975811  0.86917158  0.69787221  0.93422462  0.32269883\n",
      "  0.10019229  0.19353053  0.59289477  0.71433336  0.64730972  0.5632128\n",
      "  0.26684715  0.39688309  0.97727245  0.73940961  0.73972787  0.90356109\n",
      "  0.29631471  0.06802704  0.32801363  0.92999252  0.37877222  0.64357713\n",
      "  0.09293526  0.01156775  0.81729776  0.0827711   0.58371197  0.19720441\n",
      "  0.59736027  0.76578756  0.9054185   0.99175003  0.76340916  0.91743915\n",
      "  0.81096276  0.70282504  0.61385277  0.34727175  0.14270159  0.70974962\n",
      "  0.00566513  0.75446521  0.10342316  0.35285974  0.09130997  0.75971494\n",
      "  0.42832536  0.78285247  0.28296341  0.60923169  0.32396296  0.83764253\n",
      "  0.66724041  0.36631273  0.82838766  0.67937836  0.96491181  0.69031672\n",
      "  0.5369127   0.61951358  0.72268585  0.59960794  0.61721202  0.87605037\n",
      "  0.71667181  0.68204622  0.08969331  0.01866192]\n",
      "************\n"
     ]
    }
   ],
   "source": [
    "#Code here\n",
    "\n",
    "## Create numpy array from list\n",
    "data1D = [6, 7, 8]\n",
    "data1DnD = np.array(data1D)\n",
    "print(data1D)\n",
    "print(data1DnD)\n",
    "\n",
    "print(\"---------------\")\n",
    "\n",
    "## print useful properties of our array\n",
    "print(data1DnD.shape)\n",
    "print(data1DnD.ndim)\n",
    "print(data1DnD.dtype)\n",
    "\n",
    "print(\"---------------\")\n",
    "\n",
    "## change type of elements\n",
    "data1DnD_float = data1DnD.astype(np.float)\n",
    "print(data1DnD_float)\n",
    "data1DnD_string = data1DnD.astype(np.string_)\n",
    "print(data1DnD_string)\n",
    "\n",
    "print(\"---------------\")\n",
    "\n",
    "aa = data1DnD\n",
    "\n",
    "## array indexing\n",
    "print(aa[0])   #return the first element of ndarray aa\n",
    "print(aa[:])   #return all the elements of ndarray aa\n",
    "print(aa[-1])  #return the last element of ndarray aa\n",
    "print(aa[:-1]) #return everything up to the last element\n",
    "print(aa[:-2]) #return everything up to the second last element\n",
    "print(aa[-2])  #return the second last element\n",
    "\n",
    "print(\"---------------\")\n",
    "\n",
    "## various ways of creating an ndarray\n",
    "a = np.array([1, 2, 3])\n",
    "b = np.zeros((1,5))              # Create an array of all zeros\n",
    "c = np.ones((1,5))               # Create an array of all ones\n",
    "d = np.full((1,5), 7)            # Create an array filled with value 7\n",
    "e = np.random.random((1,4))      # Create an array filled with random values\n",
    "f = np.eye(3)                    # Create a 3x3 identity matrix (2D array)\n",
    "g = np.ones((3,3,3))             # 3-Dimensional array\n",
    "\n",
    "print(a,b,c,d,e,f,g)\n",
    "\n",
    "print(\"---------------\")\n",
    "\n",
    "## generalization to n-dimensional arrays\n",
    "A=np.array([ [1,2], [3,4] ])     # Create a 2-D array (Matrix)\n",
    "print(A[0,1])                    # return the element on first column, second row (0,1)=2\n",
    "                                 # array indexing works as above\n",
    "    \n",
    "print(\"---------------\")\n",
    "\n",
    "## reshaping\n",
    "#We can reshape a vector (e.g., v=[v1,v2,...vN]) to a matrix of N1, N2 dimensions (where N1xN2 = N)\n",
    "#This is very useful for plotting images.  For 2 dimensions, the related numpy method is np.reshape(ndarray, [dim1, dim2])\n",
    "\n",
    "ndarray = np.random.random(100)\n",
    "np.reshape(ndarray, [10, 10])\n",
    "print(ndarray)\n",
    "\n",
    "print(\"************\")"
   ]
  },
  {
   "cell_type": "markdown",
   "metadata": {},
   "source": [
    "<span style=\"color:rgb(170,0,0)\">**Task:**</span> In the empty cell below,  create an np array called L consisting of 15 random elements"
   ]
  },
  {
   "cell_type": "code",
   "execution_count": 4,
   "metadata": {},
   "outputs": [
    {
     "name": "stdout",
     "output_type": "stream",
     "text": [
      "[ 0.81150068  0.35302769  0.76031847  0.52433677  0.39411848  0.52680883\n",
      "  0.35174292  0.69392866  0.37530316  0.06827655  0.13078352  0.81880463\n",
      "  0.60893564  0.5524553   0.75054823]\n"
     ]
    }
   ],
   "source": [
    "#Code here\n",
    "\n",
    "L = np.random.random((15))      # Create an array filled with random values\n",
    "print(L)\n"
   ]
  },
  {
   "cell_type": "markdown",
   "metadata": {},
   "source": [
    "<span style=\"color:rgb(170,0,0)\">**Task:**</span> Reshape the array L to a matrix A that has 5 rows and 3 columns.  Print the matrix to verify the result."
   ]
  },
  {
   "cell_type": "code",
   "execution_count": 15,
   "metadata": {},
   "outputs": [
    {
     "name": "stdout",
     "output_type": "stream",
     "text": [
      "[[ 0.81150068  0.35302769  0.76031847]\n",
      " [ 0.52433677  0.39411848  0.52680883]\n",
      " [ 0.35174292  0.69392866  0.37530316]\n",
      " [ 0.06827655  0.13078352  0.81880463]\n",
      " [ 0.60893564  0.5524553   0.75054823]]\n",
      "--------\n",
      "[ 0.81150068  0.35302769  0.76031847  0.52433677  0.39411848  0.52680883\n",
      "  0.35174292  0.69392866  0.37530316  0.06827655  0.13078352  0.81880463\n",
      "  0.60893564  0.5524553   0.75054823]\n",
      "[[ 0.81150068  0.35302769  0.76031847]\n",
      " [ 0.52433677  0.39411848  0.52680883]\n",
      " [ 0.35174292  0.69392866  0.37530316]\n",
      " [ 0.06827655  0.13078352  0.81880463]\n",
      " [ 0.60893564  0.5524553   0.75054823]]\n"
     ]
    }
   ],
   "source": [
    "#Code here\n",
    "\n",
    "A = np.reshape(L, [5,3])\n",
    "print(A)\n",
    "print(\"--------\")\n",
    "\n",
    "A1 = L.reshape(5,3)\n",
    "print(L)\n",
    "print(A1)"
   ]
  },
  {
   "cell_type": "markdown",
   "metadata": {},
   "source": [
    "<span style=\"color:rgb(170,0,0)\">**Task:**</span> Reshape matrix A to a matrix B that has 3 rows and 5 columns.  Then, print the elements in row 0 and 1 only."
   ]
  },
  {
   "cell_type": "code",
   "execution_count": 20,
   "metadata": {},
   "outputs": [
    {
     "name": "stdout",
     "output_type": "stream",
     "text": [
      "[ 0.81150068  0.35302769  0.76031847  0.52433677  0.39411848]\n",
      "[ 0.52680883  0.35174292  0.69392866  0.37530316  0.06827655]\n"
     ]
    }
   ],
   "source": [
    "#Code here\n",
    "B = A.reshape(3,5)\n",
    "for i in range (0, 2):\n",
    "    print(B[i])"
   ]
  },
  {
   "cell_type": "markdown",
   "metadata": {},
   "source": [
    "<span style=\"color:rgb(170,0,0)\">**Task:**</span> Print all elements of B that are in row 0 and 2 **and** column 1 ( intersection 'AND' )"
   ]
  },
  {
   "cell_type": "code",
   "execution_count": 23,
   "metadata": {},
   "outputs": [
    {
     "name": "stdout",
     "output_type": "stream",
     "text": [
      "0.353027685512 0.818804629238\n"
     ]
    }
   ],
   "source": [
    "#Code here\n",
    "\n",
    "print(B[0,1], B[2,1])\n"
   ]
  },
  {
   "cell_type": "markdown",
   "metadata": {},
   "source": [
    "<span style=\"color:rgb(170,0,0)\">**Task:**</span> Print all elements of A that are in the last row (see the [-1] notation above) and second to last column.  \n",
    "\n",
    "--That is, the INTERSECTION between the last row and the 2nd last column"
   ]
  },
  {
   "cell_type": "code",
   "execution_count": 34,
   "metadata": {},
   "outputs": [
    {
     "name": "stdout",
     "output_type": "stream",
     "text": [
      "[ 0.5524553]\n"
     ]
    }
   ],
   "source": [
    "#Code here\n",
    "\n",
    "print(A[[-1],[-2]])"
   ]
  },
  {
   "cell_type": "markdown",
   "metadata": {},
   "source": [
    "<span style=\"color:rgb(170,0,0)\">**Task:**</span> Given the array Y below, find all **indices** in the array that are equal to the value 1.  Use the numpy function ``where`` to do that . Your final output should look like this: ``[1, 3, 4, 7]``.\n",
    "\n",
    "documentation: https://docs.scipy.org/doc/numpy-1.13.0/reference/generated/numpy.where.html"
   ]
  },
  {
   "cell_type": "code",
   "execution_count": 38,
   "metadata": {},
   "outputs": [
    {
     "name": "stdout",
     "output_type": "stream",
     "text": [
      "(array([1, 3, 4, 7]),)\n"
     ]
    }
   ],
   "source": [
    "Y=np.array([0, 1, 0, 1,1, 2,0,1,0])\n",
    "#Code here\n",
    "\n",
    "print(np.where(Y==1))"
   ]
  },
  {
   "cell_type": "markdown",
   "metadata": {},
   "source": [
    "<span style=\"color:rgb(170,0,0)\">**Task:**</span> Split the array Y defined above into three arrays by using the numpy function ``array_split``.  Print to verify.\n",
    "\n",
    "Documentation: https://docs.scipy.org/doc/numpy-1.13.0/reference/generated/numpy.array_split.html. "
   ]
  },
  {
   "cell_type": "code",
   "execution_count": 41,
   "metadata": {},
   "outputs": [
    {
     "name": "stdout",
     "output_type": "stream",
     "text": [
      "[array([0, 1, 0]), array([1, 1, 2]), array([0, 1, 0])]\n",
      "[0 1 0 1 1 2 0 1 0]\n"
     ]
    }
   ],
   "source": [
    "#Code here\n",
    "\n",
    "print(np.array_split(Y, 3))\n",
    "print(Y)"
   ]
  },
  {
   "cell_type": "markdown",
   "metadata": {},
   "source": [
    "<span style=\"color:rgb(170,0,0)\">**Task:**</span> Given the array D defined below, find the **indices** that sort the array.  Use the numpy function ``argsort`` in order to do so.  Subsequently, print the sorted array.  Final output should look like this:\n",
    "``\n",
    "[ 0  1  2  5  9 10 20]\n",
    "``"
   ]
  },
  {
   "cell_type": "code",
   "execution_count": 62,
   "metadata": {},
   "outputs": [
    {
     "name": "stdout",
     "output_type": "stream",
     "text": [
      "[  0.   1.   2.   5.   9.  10.  20.]\n"
     ]
    }
   ],
   "source": [
    "D=np.array([10,5,2,9,20,0,1])\n",
    "#Code here\n",
    "\n",
    "sorted_arg = np.argsort(D)\n",
    "sorted_a = np.zeros(len(D))\n",
    "\n",
    "for i in range (0, len(D)):\n",
    "    sorted_a[i] = D[sorted_arg[i]]\n",
    "\n",
    "print(sorted_a)"
   ]
  },
  {
   "cell_type": "markdown",
   "metadata": {},
   "source": [
    "<span style=\"color:rgb(170,0,0)\">**Task:**</span> Create two random 2x2 matrices X and Y (2 rows, 2 columns).  Use the numpy function ``concatenate`` in order to concatenate them and create a matrix Z that has dimensions 4x2 and a matrix W that has dimensions 2x4\n",
    "\n",
    "documentation: https://docs.scipy.org/doc/numpy-1.13.0/reference/generated/numpy.concatenate.html"
   ]
  },
  {
   "cell_type": "code",
   "execution_count": null,
   "metadata": {
    "scrolled": true
   },
   "outputs": [],
   "source": [
    "#Code here\n"
   ]
  },
  {
   "cell_type": "markdown",
   "metadata": {},
   "source": [
    "<span style=\"color:rgb(170,0,0)\">**Task:**</span> Create the same matrices Z2=Z and W2=W (where Z and W are as defined above), but this time use the numpy functions ``hstack`` and ``vstack``\n",
    "\n",
    "Documentation:\n",
    "\n",
    "https://docs.scipy.org/doc/numpy-1.13.0/reference/generated/numpy.hstack.html#numpy.hstack\n",
    "\n",
    "https://docs.scipy.org/doc/numpy-1.13.0/reference/generated/numpy.vstack.html#numpy.vstack"
   ]
  },
  {
   "cell_type": "code",
   "execution_count": null,
   "metadata": {},
   "outputs": [],
   "source": [
    "#Code here"
   ]
  }
 ],
 "metadata": {
  "kernelspec": {
   "display_name": "Python 3",
   "language": "python",
   "name": "python3"
  },
  "language_info": {
   "codemirror_mode": {
    "name": "ipython",
    "version": 3
   },
   "file_extension": ".py",
   "mimetype": "text/x-python",
   "name": "python",
   "nbconvert_exporter": "python",
   "pygments_lexer": "ipython3",
   "version": "3.5.4"
  }
 },
 "nbformat": 4,
 "nbformat_minor": 1
}
