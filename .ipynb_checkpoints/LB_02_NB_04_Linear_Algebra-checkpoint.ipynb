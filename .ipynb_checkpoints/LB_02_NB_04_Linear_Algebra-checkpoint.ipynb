{
 "cells": [
  {
   "cell_type": "markdown",
   "metadata": {
    "collapsed": true
   },
   "source": [
    "# 3. More on Linear Algebra\n",
    "\n",
    "**Instructions:**\n",
    "* go through the notebook and complete the **tasks** .  \n",
    "* Make sure you understand the examples given!\n",
    "* When a question allows a free-form answer (e.g., ``what do you observe?``) create a new markdown cell below and answer the question in the notebook.\n",
    "* ** Save your notebooks when you are done! **\n",
    "\n",
    "See details on documentation / resources here:\n",
    "https://learn.gold.ac.uk/mod/page/view.php?id=487982"
   ]
  },
  {
   "cell_type": "markdown",
   "metadata": {},
   "source": [
    "<hr>\n",
    "<span style=\"color:rgb(170,0,0)\">**Task 1:**</span> Go through the tutorial on Linear Algebra in python here: http://ml-cheatsheet.readthedocs.io/en/latest/linear_algebra.html.\n",
    "\n",
    "Paste and run the code from the tutorial in the empty cell below (or create new empty cells below) to get more familiar with the material."
   ]
  },
  {
   "cell_type": "code",
   "execution_count": 1,
   "metadata": {
    "collapsed": true
   },
   "outputs": [],
   "source": [
    "import numpy as np\n",
    "#Code here - use code samples from link above"
   ]
  },
  {
   "cell_type": "code",
   "execution_count": 4,
   "metadata": {},
   "outputs": [
    {
     "name": "stdout",
     "output_type": "stream",
     "text": [
      "[3 5 7]\n",
      "[-1 -1 -1]\n",
      "[ 0.5         0.66666667  0.75      ]\n"
     ]
    }
   ],
   "source": [
    "# elementwise operations\n",
    "\n",
    "y = np.array([1,2,3])\n",
    "x = np.array([2,3,4])\n",
    "print(y + x)\n",
    "print(y - x)\n",
    "print(y / x)"
   ]
  },
  {
   "cell_type": "code",
   "execution_count": 5,
   "metadata": {},
   "outputs": [
    {
     "data": {
      "text/plain": [
       "20"
      ]
     },
     "execution_count": 5,
     "metadata": {},
     "output_type": "execute_result"
    }
   ],
   "source": [
    "# dot product [a1, a2] dot [b1, b2] = a1b1+a2b2\n",
    "\n",
    "y = np.array([1,2,3])\n",
    "x = np.array([2,3,4])\n",
    "np.dot(y,x)"
   ]
  },
  {
   "cell_type": "code",
   "execution_count": 6,
   "metadata": {},
   "outputs": [
    {
     "name": "stdout",
     "output_type": "stream",
     "text": [
      "[ 2  6 12]\n"
     ]
    }
   ],
   "source": [
    "# Hadamard Product ⊙ (elementwise multiplication and it outputs a vector) \n",
    "\n",
    "\n",
    "y = np.array([1,2,3])\n",
    "x = np.array([2,3,4])\n",
    "print(y * x)\n"
   ]
  },
  {
   "cell_type": "code",
   "execution_count": null,
   "metadata": {
    "collapsed": true
   },
   "outputs": [],
   "source": [
    "# A vector field shows how far the point (x,y) would hypothetically move \n",
    "# if we applied a vector function like addition or multiplication.\n",
    "\n",
    "# A vector field can also move in different directions depending the starting point. \n",
    "# The reason is that the vector behind this field stores terms like 2x or x^2 instead of scalar values. \n",
    "# For each point on the graph, we plug the x-coordinate into the assigned f(x)\n",
    "# and draw an arrow from the starting point to the new location. \n",
    "# Vector fields are extremely useful for visualizing machine learning techniques like Gradient Descent."
   ]
  },
  {
   "cell_type": "code",
   "execution_count": 8,
   "metadata": {},
   "outputs": [
    {
     "name": "stdout",
     "output_type": "stream",
     "text": [
      "True\n",
      "True\n"
     ]
    }
   ],
   "source": [
    "# MATRICES\n",
    "\n",
    "a = np.array([\n",
    " [1,2,3],\n",
    " [4,5,6]\n",
    "])\n",
    "print(a.shape == (2,3))\n",
    "\n",
    "b = np.array([\n",
    " [1,2,3]\n",
    "])\n",
    "\n",
    "print(b.shape == (1,3))"
   ]
  },
  {
   "cell_type": "code",
   "execution_count": 10,
   "metadata": {},
   "outputs": [
    {
     "data": {
      "text/plain": [
       "array([[2, 3],\n",
       "       [4, 5]])"
      ]
     },
     "execution_count": 10,
     "metadata": {},
     "output_type": "execute_result"
    }
   ],
   "source": [
    "# Scalar operations with matrices work the same way as they do for vectors\n",
    "\n",
    "# Addition\n",
    "a = np.array(\n",
    "[[1,2],\n",
    " [3,4]])\n",
    "a + 1\n"
   ]
  },
  {
   "cell_type": "code",
   "execution_count": 11,
   "metadata": {},
   "outputs": [
    {
     "name": "stdout",
     "output_type": "stream",
     "text": [
      "[[2 4]\n",
      " [6 8]]\n",
      "[[0 0]\n",
      " [0 0]]\n"
     ]
    }
   ],
   "source": [
    "# Element-wise\n",
    "\n",
    "a = np.array([\n",
    " [1,2],\n",
    " [3,4]])\n",
    "b = np.array([\n",
    " [1,2],\n",
    " [3,4]])\n",
    "\n",
    "print(a+b)\n",
    "print(a-b)"
   ]
  },
  {
   "cell_type": "code",
   "execution_count": 12,
   "metadata": {},
   "outputs": [
    {
     "data": {
      "text/plain": [
       "array([[ 6, 12],\n",
       "       [10, 18]])"
      ]
     },
     "execution_count": 12,
     "metadata": {},
     "output_type": "execute_result"
    }
   ],
   "source": [
    "# Hadamard product of matrices is an elementwise operation\n",
    "\n",
    "a = np.array(\n",
    "[[2,3],\n",
    " [2,3]])\n",
    "b = np.array(\n",
    "[[3,4],\n",
    " [5,6]])\n",
    "\n",
    "# Uses python's multiply operator\n",
    "a * b\n",
    "\n",
    "# Note: In numpy you can take the Hadamard product of a matrix and vector \n",
    "# as long as their dimensions meet the requirements of broadcasting."
   ]
  },
  {
   "cell_type": "code",
   "execution_count": 13,
   "metadata": {},
   "outputs": [
    {
     "data": {
      "text/plain": [
       "array([[1, 3],\n",
       "       [2, 4]])"
      ]
     },
     "execution_count": 13,
     "metadata": {},
     "output_type": "execute_result"
    }
   ],
   "source": [
    "# Neural networks frequently process weights and inputs of different sizes \n",
    "# where the dimensions do not meet the requirements of matrix multiplication. \n",
    "# Matrix transpose provides a way to “rotate” one of the matrices\n",
    "# so that the operation complies with multiplication requirements and can continue. \n",
    "\n",
    "a = np.array([\n",
    "   [1, 2],\n",
    "   [3, 4]])\n",
    "\n",
    "a.T"
   ]
  },
  {
   "cell_type": "code",
   "execution_count": 15,
   "metadata": {
    "scrolled": true
   },
   "outputs": [
    {
     "name": "stdout",
     "output_type": "stream",
     "text": [
      "True\n",
      "True\n",
      "[[13 16]]\n",
      "True\n"
     ]
    }
   ],
   "source": [
    "# Numpy uses the function np.dot(A,B) for both vector and matrix multiplication\n",
    "a = np.array([\n",
    " [1, 2]\n",
    " ])\n",
    "\n",
    "print(a.shape == (1,2))\n",
    "\n",
    "b = np.array([\n",
    " [3, 4],\n",
    " [5, 6]\n",
    " ])\n",
    "\n",
    "print(b.shape == (2,2))\n",
    "\n",
    "# Multiply\n",
    "mm = np.dot(a,b)\n",
    "print(mm)\n",
    "\n",
    "print(mm.shape == (1,2))"
   ]
  },
  {
   "cell_type": "code",
   "execution_count": 18,
   "metadata": {},
   "outputs": [
    {
     "name": "stdout",
     "output_type": "stream",
     "text": [
      "[[ 3  4]\n",
      " [10 12]]\n",
      "[[ 3  8]\n",
      " [ 5 12]]\n",
      "[[2 3]\n",
      " [3 4]]\n"
     ]
    }
   ],
   "source": [
    "# In numpy the dimension requirements for elementwise operations are relaxed via a mechanism called broadcasting. \n",
    "# Two matrices are compatible if the corresponding dimensions in each matrix (rows vs rows, columns vs columns) \n",
    "# meet the following requirements:\n",
    "# --- The dimensions are equal, or\n",
    "# ---- One dimension is of size 1\n",
    "\n",
    "a = np.array([\n",
    " [1],\n",
    " [2]\n",
    "])\n",
    "b = np.array([\n",
    " [3,4],\n",
    " [5,6]\n",
    "])\n",
    "c = np.array([\n",
    " [1,2]\n",
    "])\n",
    "\n",
    "# Same no. of rows\n",
    "# Different no. of columns\n",
    "# but a has one column so this works\n",
    "print(a * b)\n",
    "\n",
    "\n",
    "# Same no. of columns\n",
    "# Different no. of rows\n",
    "# but c has one row so this works\n",
    "print(b * c)\n",
    "\n",
    "# Different no. of columns\n",
    "# Different no. of rows\n",
    "# but both a and c meet the\n",
    "# size 1 requirement rule\n",
    "print(a + c)"
   ]
  },
  {
   "cell_type": "markdown",
   "metadata": {},
   "source": [
    "<span style=\"color:rgb(170,0,0)\">**Task 2:**</span> Create the following matrices:\n",
    "* $X=\\begin{bmatrix} 2 & 3 & 4 \\\\ 1 & 2 &3 \\end{bmatrix},Y=\\begin{bmatrix} 0 & 1 & 0 \\\\ 1 & 0 &0\\\\ 0 & 0 & 1 \\end{bmatrix}$\n",
    "* Multiply X with Y (Z1=X*Y=XY) and print the result.  What do you observe?\n",
    "* Multiply X with Y transpose (Z2=X*Y.T) and print the result.  What do you observe?\n",
    "* What can you tell about matrix Y, given Z1 and Z2?"
   ]
  },
  {
   "cell_type": "code",
   "execution_count": 35,
   "metadata": {},
   "outputs": [
    {
     "name": "stdout",
     "output_type": "stream",
     "text": [
      "(2, 3)\n",
      "\n",
      "[[3 2 4]\n",
      " [2 1 3]]\n",
      "\n",
      "[[3 2]\n",
      " [2 1]\n",
      " [4 3]]\n"
     ]
    }
   ],
   "source": [
    "#Code here\n",
    "X = np.array([\n",
    "    [2,3,4],\n",
    "    [1,2,3]\n",
    "])\n",
    "\n",
    "print(shape(X))\n",
    "print()\n",
    "\n",
    "Y = np.array([\n",
    "    [0,1,0],\n",
    "    [1,0,0],\n",
    "    [0,0,1]\n",
    "])\n",
    "\n",
    "#print(X)\n",
    "\n",
    "Z1 = X.dot(Y)\n",
    "print(Z1)\n",
    "print()\n",
    "\n",
    "Z2 = Z1.T\n",
    "print(Z2)"
   ]
  },
  {
   "cell_type": "markdown",
   "metadata": {},
   "source": [
    "* The result is a 2x3 matrix\n",
    "* The matrix has been flipped (rows are columns and vice versa)\n",
    "* It's a transformation matrix, which swapped column 1 with column 2 in X"
   ]
  },
  {
   "cell_type": "markdown",
   "metadata": {},
   "source": [
    "<span style=\"color:rgb(170,0,0)\">**Task 3:**</span> Create a 2x2 identity matrix I using the numpy function ``eye(dim)`` \n",
    "$$ I=\\begin{bmatrix} 1 & 0 \\\\ 0 & 1 \\end{bmatrix} $$"
   ]
  },
  {
   "cell_type": "code",
   "execution_count": 37,
   "metadata": {},
   "outputs": [
    {
     "name": "stdout",
     "output_type": "stream",
     "text": [
      "[[ 1.  0.]\n",
      " [ 0.  1.]]\n"
     ]
    }
   ],
   "source": [
    "#Code here\n",
    "I = eye(2)\n",
    "print(I)\n"
   ]
  },
  {
   "cell_type": "markdown",
   "metadata": {},
   "source": [
    "<span style=\"color:rgb(170,0,0)\">**Task 4:**</span> Multiply (using ``dot``) matrix I with the vector ``x`` defined below. Print the output.  What do you observe?\n",
    "$$  =Ix$$"
   ]
  },
  {
   "cell_type": "code",
   "execution_count": 39,
   "metadata": {},
   "outputs": [
    {
     "name": "stdout",
     "output_type": "stream",
     "text": [
      "[2 3]\n"
     ]
    },
    {
     "data": {
      "text/plain": [
       "array([ 2.,  3.])"
      ]
     },
     "execution_count": 39,
     "metadata": {},
     "output_type": "execute_result"
    }
   ],
   "source": [
    "x=np.array([2,3])\n",
    "print(x)\n",
    "\n",
    "\n",
    "I.dot(x)\n",
    "#Code here"
   ]
  },
  {
   "cell_type": "markdown",
   "metadata": {},
   "source": [
    "The identity matrix leaved the vector unchanged"
   ]
  },
  {
   "cell_type": "markdown",
   "metadata": {},
   "source": [
    "<span style=\"color:rgb(170,0,0)\">**Task 5:**</span> Multiply (using ``dot``) matrix I with the matrix ``X`` defined below. Print the output.  What do you observe? \n",
    "$$=IX$$"
   ]
  },
  {
   "cell_type": "code",
   "execution_count": 42,
   "metadata": {},
   "outputs": [
    {
     "name": "stdout",
     "output_type": "stream",
     "text": [
      "[[2 3]\n",
      " [4 5]]\n"
     ]
    },
    {
     "data": {
      "text/plain": [
       "array([[ 2.,  3.],\n",
       "       [ 4.,  5.]])"
      ]
     },
     "execution_count": 42,
     "metadata": {},
     "output_type": "execute_result"
    }
   ],
   "source": [
    "X=np.array([[2,3],[4,5]])\n",
    "print(X)\n",
    "#Code here\n",
    "\n",
    "I.dot(X)"
   ]
  },
  {
   "cell_type": "markdown",
   "metadata": {},
   "source": [
    "The identity matrix leaved the matrix unchanged"
   ]
  },
  {
   "cell_type": "markdown",
   "metadata": {},
   "source": [
    "<span style=\"color:rgb(170,0,0)\">**Task 6:**</span> Multiply (using ``dot``) matrix $X$ with the inverse matrix, $X^{-1}$ (use the numpy function ``linalg.inv`` to do so).  What do you observe? $=$XX^{-1}$$\n"
   ]
  },
  {
   "cell_type": "code",
   "execution_count": 45,
   "metadata": {},
   "outputs": [
    {
     "name": "stdout",
     "output_type": "stream",
     "text": [
      "[[ 1. -2.]\n",
      " [ 0.  1.]]\n",
      "[[ 1.  0.]\n",
      " [ 0.  1.]]\n"
     ]
    }
   ],
   "source": [
    "X=np.array([[1,2],[0,1]])\n",
    "#Code here\n",
    "invX = linalg.inv(X)\n",
    "print(invX)\n",
    "\n",
    "print(X.dot(invX))"
   ]
  },
  {
   "cell_type": "markdown",
   "metadata": {},
   "source": [
    "Multiplying X for its inverse we got the identity matrix"
   ]
  }
 ],
 "metadata": {
  "kernelspec": {
   "display_name": "Python 3",
   "language": "python",
   "name": "python3"
  },
  "language_info": {
   "codemirror_mode": {
    "name": "ipython",
    "version": 3
   },
   "file_extension": ".py",
   "mimetype": "text/x-python",
   "name": "python",
   "nbconvert_exporter": "python",
   "pygments_lexer": "ipython3",
   "version": "3.6.2"
  }
 },
 "nbformat": 4,
 "nbformat_minor": 2
}
